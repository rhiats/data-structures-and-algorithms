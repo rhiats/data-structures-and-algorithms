{
  "nbformat": 4,
  "nbformat_minor": 0,
  "metadata": {
    "colab": {
      "provenance": [],
      "authorship_tag": "ABX9TyOqfatyZho8s9h9WG7DVpdF",
      "include_colab_link": true
    },
    "kernelspec": {
      "name": "python3",
      "display_name": "Python 3"
    },
    "language_info": {
      "name": "python"
    }
  },
  "cells": [
    {
      "cell_type": "markdown",
      "metadata": {
        "id": "view-in-github",
        "colab_type": "text"
      },
      "source": [
        "<a href=\"https://colab.research.google.com/github/rhiats/data-structures-and-algorithms/blob/main/arrays_lists.ipynb\" target=\"_parent\"><img src=\"https://colab.research.google.com/assets/colab-badge.svg\" alt=\"Open In Colab\"/></a>"
      ]
    },
    {
      "cell_type": "markdown",
      "source": [
        "**Calculate the Average Temperature**"
      ],
      "metadata": {
        "id": "N5xHztIQxtP0"
      }
    },
    {
      "cell_type": "code",
      "source": [
        "import numpy as np\n",
        "\n",
        "numDaysInt=int(input(\"How many days temperature? \\t\"))\n",
        "\n",
        "temps_lst=[]\n",
        "\n",
        "for i in range(1,numDaysInt+1):\n",
        "  t=float(input(\"Day \"+str(i)+\" Temperature: \"))\n",
        "  temps_lst.append(t)\n",
        "\n",
        "temps_arr=np.asarray(temps_lst)\n",
        "\n",
        "avg_flt=round(np.sum(temps_arr)/numDaysInt,2)\n",
        "\n",
        "print(\"\\nThe average temperature is {} degrees\".format(avg_flt))\n",
        "\n",
        "for t in range(len(temps_arr)):\n",
        "  if temps_arr[t]>avg_flt:\n",
        "    day_int=t+1\n",
        "    print(\"\\nDay {} is above the average temperature\".format(day_int))"
      ],
      "metadata": {
        "colab": {
          "base_uri": "https://localhost:8080/"
        },
        "id": "sUE5nBQkGYe4",
        "outputId": "e2ab32b6-644c-4639-c02d-972c488f65b2"
      },
      "execution_count": 8,
      "outputs": [
        {
          "output_type": "stream",
          "name": "stdout",
          "text": [
            "How many days temperature? \t3\n",
            "Day 1 Temperature: 1\n",
            "Day 2 Temperature: 2\n",
            "Day 3 Temperature: 3\n",
            "\n",
            "The average temperature is 2.0 degrees\n",
            "\n",
            "Day 3 is above the average temperature\n"
          ]
        }
      ]
    },
    {
      "cell_type": "markdown",
      "source": [
        "**Find the Days Above Average Temperature**"
      ],
      "metadata": {
        "id": "zY2DKDy6xzlR"
      }
    },
    {
      "cell_type": "code",
      "source": [],
      "metadata": {
        "id": "p1FZdFrOx4C1"
      },
      "execution_count": null,
      "outputs": []
    }
  ]
}