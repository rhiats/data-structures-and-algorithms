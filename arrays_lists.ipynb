{
  "nbformat": 4,
  "nbformat_minor": 0,
  "metadata": {
    "colab": {
      "provenance": [],
      "authorship_tag": "ABX9TyOqcHq14/dRyo7IP3VJVm7A",
      "include_colab_link": true
    },
    "kernelspec": {
      "name": "python3",
      "display_name": "Python 3"
    },
    "language_info": {
      "name": "python"
    }
  },
  "cells": [
    {
      "cell_type": "markdown",
      "metadata": {
        "id": "view-in-github",
        "colab_type": "text"
      },
      "source": [
        "<a href=\"https://colab.research.google.com/github/rhiats/data-structures-and-algorithms/blob/main/arrays_lists.ipynb\" target=\"_parent\"><img src=\"https://colab.research.google.com/assets/colab-badge.svg\" alt=\"Open In Colab\"/></a>"
      ]
    },
    {
      "cell_type": "markdown",
      "source": [
        "**Calculate the Average Temperature and Days above Average**"
      ],
      "metadata": {
        "id": "N5xHztIQxtP0"
      }
    },
    {
      "cell_type": "code",
      "source": [
        "import numpy as np\n",
        "\n",
        "numDaysInt=int(input(\"How many days temperature? \\t\"))\n",
        "\n",
        "temps_lst=[]\n",
        "\n",
        "for i in range(1,numDaysInt+1):\n",
        "  t=float(input(\"Day \"+str(i)+\" Temperature: \"))\n",
        "  temps_lst.append(t)\n",
        "\n",
        "temps_arr=np.asarray(temps_lst)\n",
        "\n",
        "avg_flt=round(np.sum(temps_arr)/numDaysInt,2)\n",
        "\n",
        "print(\"\\nThe average temperature is {} degrees\".format(avg_flt))\n",
        "\n",
        "for t in range(len(temps_arr)):\n",
        "  if temps_arr[t]>avg_flt:\n",
        "    day_int=t+1\n",
        "    print(\"\\nDay {} is above the average temperature\".format(day_int))"
      ],
      "metadata": {
        "colab": {
          "base_uri": "https://localhost:8080/"
        },
        "id": "sUE5nBQkGYe4",
        "outputId": "e2ab32b6-644c-4639-c02d-972c488f65b2"
      },
      "execution_count": 8,
      "outputs": [
        {
          "output_type": "stream",
          "name": "stdout",
          "text": [
            "How many days temperature? \t3\n",
            "Day 1 Temperature: 1\n",
            "Day 2 Temperature: 2\n",
            "Day 3 Temperature: 3\n",
            "\n",
            "The average temperature is 2.0 degrees\n",
            "\n",
            "Day 3 is above the average temperature\n"
          ]
        }
      ]
    },
    {
      "cell_type": "markdown",
      "source": [
        "**Missing Number** - Sum of Numbers - Current List Total"
      ],
      "metadata": {
        "id": "Yjs2EIKE1hSw"
      }
    },
    {
      "cell_type": "code",
      "source": [
        "def missing_number(arr, n):\n",
        "    cur_num,prev_num=0,0\n",
        "\n",
        "    arr.sort()\n",
        "\n",
        "    for i in range(1,len(arr)+1):\n",
        "        cur_num=arr[i]\n",
        "        prev_num=arr[i-1]\n",
        "\n",
        "        if (cur_num-prev_num)>1:\n",
        "            return(prev_num+1)\n",
        "\n",
        "missing_number([102, 101, 103, 104, 106], 6)"
      ],
      "metadata": {
        "colab": {
          "base_uri": "https://localhost:8080/"
        },
        "id": "Ts6HDZ1l1kd_",
        "outputId": "f2f5ea21-bb86-4acb-c699-bcdc87641ce3"
      },
      "execution_count": 11,
      "outputs": [
        {
          "output_type": "execute_result",
          "data": {
            "text/plain": [
              "105"
            ]
          },
          "metadata": {},
          "execution_count": 11
        }
      ]
    },
    {
      "cell_type": "markdown",
      "source": [
        "**Pairs/Two Sum**\n",
        "\n",
        "Find all pairs of integers whose sum is equal to a given number"
      ],
      "metadata": {
        "id": "P5XWnpFY3n6J"
      }
    },
    {
      "cell_type": "code",
      "source": [
        "arr=[3,2,4]\n",
        "target=6\n",
        "\n",
        "seen_dict={}\n",
        "\n",
        "for i,num in enumerate(arr):\n",
        "  complement = target - num\n",
        "\n",
        "  if complement in seen_dict:\n",
        "    print([seen_dict[complement],i])\n",
        "\n",
        "  seen_dict[num]=i"
      ],
      "metadata": {
        "colab": {
          "base_uri": "https://localhost:8080/"
        },
        "id": "iPWSLQ7d1tGB",
        "outputId": "4cab9baa-5991-4983-ccee-99668e0f91b1"
      },
      "execution_count": 22,
      "outputs": [
        {
          "output_type": "stream",
          "name": "stdout",
          "text": [
            "[1, 2]\n"
          ]
        }
      ]
    },
    {
      "cell_type": "markdown",
      "source": [
        "**Check Array for Value**"
      ],
      "metadata": {
        "id": "DKn5Rx5aNPRk"
      }
    },
    {
      "cell_type": "code",
      "source": [
        "arr=[1,2,3,4,5]\n",
        "target=3\n",
        "\n",
        "for i in arr:\n",
        "  if i == target:\n",
        "    print(i)"
      ],
      "metadata": {
        "colab": {
          "base_uri": "https://localhost:8080/"
        },
        "id": "a8lxRKsRAwv_",
        "outputId": "9fa82e12-81db-46c5-f2b0-17732c72504c"
      },
      "execution_count": 23,
      "outputs": [
        {
          "output_type": "stream",
          "name": "stdout",
          "text": [
            "3\n"
          ]
        }
      ]
    },
    {
      "cell_type": "markdown",
      "source": [
        "**Middle List**"
      ],
      "metadata": {
        "id": "9FFbpG2GRsxn"
      }
    },
    {
      "cell_type": "code",
      "source": [
        "lst_orig=[1,2,3,4,5]\n",
        "lst_mid=lst_orig[1:-1]\n",
        "lst_mid"
      ],
      "metadata": {
        "colab": {
          "base_uri": "https://localhost:8080/"
        },
        "id": "lpg0w9lhPZSU",
        "outputId": "1ff61ea9-66ff-45f7-ded7-41f0b1b78866"
      },
      "execution_count": 30,
      "outputs": [
        {
          "output_type": "execute_result",
          "data": {
            "text/plain": [
              "[2, 3, 4]"
            ]
          },
          "metadata": {},
          "execution_count": 30
        }
      ]
    },
    {
      "cell_type": "markdown",
      "source": [
        "**Sum Diagonal Elements**\n",
        "\n",
        "Use matrix[i][i] for diagonal elements"
      ],
      "metadata": {
        "id": "Lk8CxDctU7zB"
      }
    },
    {
      "cell_type": "code",
      "source": [
        "myList2D= [[1,2,3],[4,5,6],[7,8,9]]\n",
        "\n",
        "total=0\n",
        "for i, row in enumerate(myList2D):\n",
        "  for j, col in enumerate(row):\n",
        "    if i == j:\n",
        "      total+=myList2D[i][j]\n",
        "\n",
        "print(total)"
      ],
      "metadata": {
        "colab": {
          "base_uri": "https://localhost:8080/"
        },
        "id": "F0HHnVJjR3Jt",
        "outputId": "90715a73-b5cc-47b5-e27c-f154964ff55a"
      },
      "execution_count": 34,
      "outputs": [
        {
          "output_type": "stream",
          "name": "stdout",
          "text": [
            "15\n"
          ]
        }
      ]
    },
    {
      "cell_type": "markdown",
      "source": [
        "**Best Score**"
      ],
      "metadata": {
        "id": "_s9DVl0Na3CQ"
      }
    },
    {
      "cell_type": "code",
      "source": [
        "my_list=[84,85,86,87,85,90,85,83,23,45,84,1,2,0]\n",
        "my_list=list(set(my_list))\n",
        "my_list.sort(reverse=True)\n",
        "print(my_list[0],my_list[1])"
      ],
      "metadata": {
        "colab": {
          "base_uri": "https://localhost:8080/"
        },
        "id": "I7w4y6KrVF9p",
        "outputId": "8a44ec8f-f1a0-43c1-ec56-3ab6687204ae"
      },
      "execution_count": 38,
      "outputs": [
        {
          "output_type": "stream",
          "name": "stdout",
          "text": [
            "0 1\n"
          ]
        }
      ]
    },
    {
      "cell_type": "markdown",
      "source": [
        "**Pairs**"
      ],
      "metadata": {
        "id": "gq6wL0XjvQjl"
      }
    },
    {
      "cell_type": "code",
      "source": [
        "myList=[2, 4, 3, 5, 6, -2, 4, 7, 8, 9]\n",
        "sum=7\n",
        "#Output : ['2+5', '4+3', '3+4', '-2+9']"
      ],
      "metadata": {
        "id": "bC4r-k7_bCHG"
      },
      "execution_count": null,
      "outputs": []
    }
  ]
}