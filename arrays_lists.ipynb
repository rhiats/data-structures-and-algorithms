{
  "nbformat": 4,
  "nbformat_minor": 0,
  "metadata": {
    "colab": {
      "provenance": [],
      "authorship_tag": "ABX9TyNNLf2CC2+2rDZ/diZVBCII",
      "include_colab_link": true
    },
    "kernelspec": {
      "name": "python3",
      "display_name": "Python 3"
    },
    "language_info": {
      "name": "python"
    }
  },
  "cells": [
    {
      "cell_type": "markdown",
      "metadata": {
        "id": "view-in-github",
        "colab_type": "text"
      },
      "source": [
        "<a href=\"https://colab.research.google.com/github/rhiats/data-structures-and-algorithms/blob/main/arrays_lists.ipynb\" target=\"_parent\"><img src=\"https://colab.research.google.com/assets/colab-badge.svg\" alt=\"Open In Colab\"/></a>"
      ]
    },
    {
      "cell_type": "markdown",
      "source": [
        "**Calculate the Average Temperature**"
      ],
      "metadata": {
        "id": "N5xHztIQxtP0"
      }
    },
    {
      "cell_type": "code",
      "source": [
        "import numpy as np\n",
        "\n",
        "numDaysInt=int(input(\"How many days temperature? \"))\n",
        "\n",
        "temps_lst=[]\n",
        "\n",
        "for i in range(1,numDaysInt+1):\n",
        "  t=int(input(\"Day \"+str(i)+\" Temperature: \"))\n",
        "  temps_lst.append(t)\n",
        "\n",
        "temps_arr=np.asarray(temps_lst)\n",
        "\n",
        "avg_flt=round(np.sum(temps_arr)/numDaysInt,2)\n",
        "\n",
        "print(\"The average temperature is {} degrees\".format(avg_flt))"
      ],
      "metadata": {
        "colab": {
          "base_uri": "https://localhost:8080/"
        },
        "id": "sUE5nBQkGYe4",
        "outputId": "2f62ef72-240f-4a94-e0d5-a57001e5dee3"
      },
      "execution_count": 5,
      "outputs": [
        {
          "output_type": "stream",
          "name": "stdout",
          "text": [
            "How many days temperature?3\n",
            "Day 1 Temperature: 2\n",
            "Day 2 Temperature: 3\n",
            "Day 3 Temperature: 4\n",
            "The average temperature is 3.0 degrees\n"
          ]
        }
      ]
    },
    {
      "cell_type": "markdown",
      "source": [
        "**Find the Days Above Average Temperature**"
      ],
      "metadata": {
        "id": "zY2DKDy6xzlR"
      }
    },
    {
      "cell_type": "code",
      "source": [],
      "metadata": {
        "id": "p1FZdFrOx4C1"
      },
      "execution_count": null,
      "outputs": []
    }
  ]
}