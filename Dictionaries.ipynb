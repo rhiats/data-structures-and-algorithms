{
  "nbformat": 4,
  "nbformat_minor": 0,
  "metadata": {
    "colab": {
      "provenance": [],
      "authorship_tag": "ABX9TyOue8igg82SDjOwqTKuAhDn",
      "include_colab_link": true
    },
    "kernelspec": {
      "name": "python3",
      "display_name": "Python 3"
    },
    "language_info": {
      "name": "python"
    }
  },
  "cells": [
    {
      "cell_type": "markdown",
      "metadata": {
        "id": "view-in-github",
        "colab_type": "text"
      },
      "source": [
        "<a href=\"https://colab.research.google.com/github/rhiats/data-structures-and-algorithms/blob/main/Dictionaries.ipynb\" target=\"_parent\"><img src=\"https://colab.research.google.com/assets/colab-badge.svg\" alt=\"Open In Colab\"/></a>"
      ]
    },
    {
      "cell_type": "markdown",
      "source": [
        "**Count Word Frequency**\n",
        "\n",
        "Define a function to count the frequency of words in a given list of words."
      ],
      "metadata": {
        "id": "L2_2p6u_Zjb9"
      }
    },
    {
      "cell_type": "code",
      "source": [
        "words = ['apple', 'orange', 'banana', 'apple', 'orange', 'apple']\n",
        "\n",
        "def count_word_frequency(words):\n",
        "  \"\"\"\n",
        "    @p: words (list) - list of words\n",
        "    @r: (dict) - key is the word and value is the frequency of the word\n",
        "  \"\"\"\n",
        "  output_dict={}\n",
        "  for w in words:\n",
        "\n",
        "    if w in output_dict:\n",
        "      output_dict[w]+=1\n",
        "    else:\n",
        "      output_dict[w]=1\n",
        "\n",
        "  return output_dict\n",
        "\n",
        "count_word_frequency(words)\n",
        "\n"
      ],
      "metadata": {
        "colab": {
          "base_uri": "https://localhost:8080/"
        },
        "id": "_MoBNGvPZmMF",
        "outputId": "2ac80bbb-5a66-477d-b6cc-8de8cd6b56be"
      },
      "execution_count": 3,
      "outputs": [
        {
          "output_type": "execute_result",
          "data": {
            "text/plain": [
              "{'apple': 3, 'orange': 2, 'banana': 1}"
            ]
          },
          "metadata": {},
          "execution_count": 3
        }
      ]
    },
    {
      "cell_type": "markdown",
      "source": [
        "**Common Keys**\n",
        "\n",
        "Define a function with takes two dictionaries as parameters and merge them and sum the values of common keys."
      ],
      "metadata": {
        "id": "rvQY886da-PH"
      }
    },
    {
      "cell_type": "code",
      "source": [
        "dict1 = {'a': 1, 'b': 2, 'c': 3}\n",
        "dict2 = {'b': 3, 'c': 4, 'd': 5}\n",
        "\n",
        "def merge_dicts(d1,d2):\n",
        "  \"\"\"\n",
        "    Takes two dictionaries as parameters and merge them and sum the values of common keys.\n",
        "\n",
        "    @p: d1, d2 (dict, dict) - two dictionaries that can be iterated\n",
        "    @r: d3 (dict) - dictionary of merged values\n",
        "  \"\"\"\n",
        "\n",
        "  if len(dict1)<=len(dict2):\n",
        "    for key in dict1:\n",
        "      val=dict1[key]+dict2[key]\n",
        "      dict2.setdefault(,)\n",
        "\n",
        "  else:\n",
        "    for key in dict2:\n",
        "      dict1.setdefault()\n",
        "\n",
        "\n",
        "merge_dicts(dict1, dict2)"
      ],
      "metadata": {
        "id": "oj2vrsQaaTHM"
      },
      "execution_count": null,
      "outputs": []
    }
  ]
}