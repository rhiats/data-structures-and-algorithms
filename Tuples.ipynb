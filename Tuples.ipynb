{
  "nbformat": 4,
  "nbformat_minor": 0,
  "metadata": {
    "colab": {
      "provenance": [],
      "authorship_tag": "ABX9TyOjwUD67cYfjE5Nnz6eRqyi",
      "include_colab_link": true
    },
    "kernelspec": {
      "name": "python3",
      "display_name": "Python 3"
    },
    "language_info": {
      "name": "python"
    }
  },
  "cells": [
    {
      "cell_type": "markdown",
      "metadata": {
        "id": "view-in-github",
        "colab_type": "text"
      },
      "source": [
        "<a href=\"https://colab.research.google.com/github/rhiats/data-structures-and-algorithms/blob/main/Tuples.ipynb\" target=\"_parent\"><img src=\"https://colab.research.google.com/assets/colab-badge.svg\" alt=\"Open In Colab\"/></a>"
      ]
    },
    {
      "cell_type": "markdown",
      "source": [
        "**Sum and Product**\n",
        "\n",
        "Write a function that calculates the sum and product of all elements in a tuple of numbers."
      ],
      "metadata": {
        "id": "hyxypt1wZICD"
      }
    },
    {
      "cell_type": "code",
      "source": [
        "input_tuple = (1, 2, 3, 4)\n",
        "\n",
        "def sum_product(input_tuple):\n",
        "  \"\"\"\n",
        "    Calculate the sum and product of all elements in a tuple of numbers\n",
        "\n",
        "    @p: input_tuple: tuple of numbers (int/float, pos/neg)\n",
        "  \"\"\"\n",
        "\n",
        "  sum_nums=[sum(i) for i in [input_tuple]][0]\n",
        "\n",
        "  prod_num=1\n",
        "\n",
        "  for i in input_tuple:\n",
        "    prod_num*=i\n",
        "\n",
        "  return sum_nums,prod_num\n",
        "\n",
        "sum_result, product_result = sum_product(input_tuple)\n",
        "print(sum_result, product_result)"
      ],
      "metadata": {
        "colab": {
          "base_uri": "https://localhost:8080/"
        },
        "id": "N7U8iXmnZNJs",
        "outputId": "9561c2c3-7ba3-4379-d487-9ab278afbb82"
      },
      "execution_count": 6,
      "outputs": [
        {
          "output_type": "stream",
          "name": "stdout",
          "text": [
            "10 24\n"
          ]
        }
      ]
    },
    {
      "cell_type": "markdown",
      "source": [
        "**Elementwise Sum**\n",
        "\n",
        "Create a function that takes two tuples and returns a tuple containing the element-wise sum of the input tuples."
      ],
      "metadata": {
        "id": "TPmoXEAxbY52"
      }
    },
    {
      "cell_type": "code",
      "source": [
        "tuple1 = (1, 2, 3)\n",
        "tuple2 = (4, 5, 6)\n",
        "\n",
        "def tuple_elementwise_sum(tuple1,tuple2):\n",
        "  lst_o=[tuple1[i]+tuple2[i] for i in range(len(tuple1))]\n",
        "\n",
        "  tuple3=tuple(lst_o)\n",
        "\n",
        "  return tuple3\n",
        "output_tuple = tuple_elementwise_sum(tuple1, tuple2)\n",
        "print(output_tuple)"
      ],
      "metadata": {
        "colab": {
          "base_uri": "https://localhost:8080/"
        },
        "id": "HQ1k3SQlZ3b3",
        "outputId": "eddd34be-7b89-426b-e6c7-3d130bf9eea6"
      },
      "execution_count": 8,
      "outputs": [
        {
          "output_type": "stream",
          "name": "stdout",
          "text": [
            "(5, 7, 9)\n"
          ]
        }
      ]
    },
    {
      "cell_type": "markdown",
      "source": [
        "**Insert at the Beginning**\n",
        "\n",
        "Write a function that takes a tuple and a value, and returns a new tuple with the value inserted at the beginning of the original tuple."
      ],
      "metadata": {
        "id": "NvYpqgb1dFfy"
      }
    },
    {
      "cell_type": "code",
      "source": [
        "input_tuple = (2, 3, 4)\n",
        "value_to_insert = 1\n",
        "output_tuple = insert_value_front(input_tuple, value_to_insert)\n",
        "print(output_tuple)  # Expected output: (1, 2, 3, 4)"
      ],
      "metadata": {
        "id": "gyJkcwEdcUtE"
      },
      "execution_count": null,
      "outputs": []
    }
  ]
}