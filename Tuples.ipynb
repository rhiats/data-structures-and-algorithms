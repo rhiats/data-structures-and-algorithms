{
  "nbformat": 4,
  "nbformat_minor": 0,
  "metadata": {
    "colab": {
      "provenance": [],
      "authorship_tag": "ABX9TyNAN3Wc7YNIBX8WqIunSwl0",
      "include_colab_link": true
    },
    "kernelspec": {
      "name": "python3",
      "display_name": "Python 3"
    },
    "language_info": {
      "name": "python"
    }
  },
  "cells": [
    {
      "cell_type": "markdown",
      "metadata": {
        "id": "view-in-github",
        "colab_type": "text"
      },
      "source": [
        "<a href=\"https://colab.research.google.com/github/rhiats/data-structures-and-algorithms/blob/main/Tuples.ipynb\" target=\"_parent\"><img src=\"https://colab.research.google.com/assets/colab-badge.svg\" alt=\"Open In Colab\"/></a>"
      ]
    },
    {
      "cell_type": "markdown",
      "source": [
        "**Sum and Product**\n",
        "\n",
        "Write a function that calculates the sum and product of all elements in a tuple of numbers."
      ],
      "metadata": {
        "id": "hyxypt1wZICD"
      }
    },
    {
      "cell_type": "code",
      "source": [
        "input_tuple = (1, 2, 3, 4)\n",
        "\n",
        "def sum_product(input_tuple):\n",
        "  \"\"\"\n",
        "    Calculate the sum and product of all elements in a tuple of numbers\n",
        "\n",
        "    @p: input_tuple: tuple of numbers (int/float, pos/neg)\n",
        "  \"\"\"\n",
        "\n",
        "  sum_nums=[sum(i) for i in [input_tuple]][0]\n",
        "\n",
        "  prod_num=1\n",
        "\n",
        "  for i in input_tuple:\n",
        "    prod_num*=i\n",
        "\n",
        "  return sum_nums,prod_num\n",
        "\n",
        "sum_result, product_result = sum_product(input_tuple)\n",
        "print(sum_result, product_result)"
      ],
      "metadata": {
        "colab": {
          "base_uri": "https://localhost:8080/"
        },
        "id": "N7U8iXmnZNJs",
        "outputId": "86091dde-aee9-4a5f-a4bd-d5ed6a2871b8"
      },
      "execution_count": 1,
      "outputs": [
        {
          "output_type": "stream",
          "name": "stdout",
          "text": [
            "10 24\n"
          ]
        }
      ]
    },
    {
      "cell_type": "markdown",
      "source": [
        "**Elementwise Sum**\n",
        "\n",
        "Create a function that takes two tuples and returns a tuple containing the element-wise sum of the input tuples. (Zip)"
      ],
      "metadata": {
        "id": "TPmoXEAxbY52"
      }
    },
    {
      "cell_type": "code",
      "source": [
        "tuple1 = (1, 2, 3)\n",
        "tuple2 = (4, 5, 6)\n",
        "\n",
        "def tuple_elementwise_sum(tuple1,tuple2):\n",
        "  lst_o=[tuple1[i]+tuple2[i] for i in range(len(tuple1))]\n",
        "\n",
        "  tuple3=tuple(lst_o)\n",
        "\n",
        "  return tuple3\n",
        "output_tuple = tuple_elementwise_sum(tuple1, tuple2)\n",
        "print(output_tuple)"
      ],
      "metadata": {
        "colab": {
          "base_uri": "https://localhost:8080/"
        },
        "id": "HQ1k3SQlZ3b3",
        "outputId": "75ee6e60-1769-4d89-9756-328f65edb5bc"
      },
      "execution_count": 2,
      "outputs": [
        {
          "output_type": "stream",
          "name": "stdout",
          "text": [
            "(5, 7, 9)\n"
          ]
        }
      ]
    },
    {
      "cell_type": "markdown",
      "source": [
        "**Insert at the Beginning**\n",
        "\n",
        "Write a function that takes a tuple and a value, and returns a new tuple with the value inserted at the beginning of the original tuple.\n",
        "(Concatenate)"
      ],
      "metadata": {
        "id": "NvYpqgb1dFfy"
      }
    },
    {
      "cell_type": "code",
      "source": [
        "input_tuple = (2, 3, 4)\n",
        "value_to_insert = 1\n",
        "\n",
        "def insert_value_front(input_tuple, value_to_insert):\n",
        "  lst_tup=list(input_tuple)\n",
        "  lst_tup.insert(0,value_to_insert)\n",
        "\n",
        "  return tuple(lst_tup)\n",
        "\n",
        "output_tuple = insert_value_front(input_tuple, value_to_insert)\n",
        "print(output_tuple)  # Expected output: (1, 2, 3, 4)"
      ],
      "metadata": {
        "colab": {
          "base_uri": "https://localhost:8080/"
        },
        "id": "gyJkcwEdcUtE",
        "outputId": "7c9fd7d4-3194-4516-bdcb-938bca461552"
      },
      "execution_count": 4,
      "outputs": [
        {
          "output_type": "stream",
          "name": "stdout",
          "text": [
            "(1, 2, 3, 4)\n"
          ]
        }
      ]
    },
    {
      "cell_type": "markdown",
      "source": [
        "**Concatenate**\n",
        "\n",
        "Write a function that takes a tuple of strings and concatenates them, separating each string with a space."
      ],
      "metadata": {
        "id": "gOrTqBLmoEbO"
      }
    },
    {
      "cell_type": "code",
      "source": [
        "input_tuple = ('Hello', 'World', 'from', 'Python')\n",
        "\n",
        "def concatenate_strings(input_tuple):\n",
        "\n",
        "  return \" \".join(input_tuple)\n",
        "output_string = concatenate_strings(input_tuple)\n",
        "print(output_string)  # Expected output: 'Hello World from Python'"
      ],
      "metadata": {
        "colab": {
          "base_uri": "https://localhost:8080/"
        },
        "id": "cgaGr4uidq2W",
        "outputId": "7d6c81fc-961e-45ee-9fe3-043a61827f05"
      },
      "execution_count": 6,
      "outputs": [
        {
          "output_type": "stream",
          "name": "stdout",
          "text": [
            "Hello World from Python\n"
          ]
        }
      ]
    },
    {
      "cell_type": "code",
      "source": [],
      "metadata": {
        "id": "8Gd1Guvhodv-"
      },
      "execution_count": null,
      "outputs": []
    }
  ]
}