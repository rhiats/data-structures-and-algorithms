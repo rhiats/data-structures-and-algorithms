{
  "nbformat": 4,
  "nbformat_minor": 0,
  "metadata": {
    "colab": {
      "provenance": [],
      "authorship_tag": "ABX9TyM3XztNTNtZWBA5ZfBE3PXo",
      "include_colab_link": true
    },
    "kernelspec": {
      "name": "python3",
      "display_name": "Python 3"
    },
    "language_info": {
      "name": "python"
    }
  },
  "cells": [
    {
      "cell_type": "markdown",
      "metadata": {
        "id": "view-in-github",
        "colab_type": "text"
      },
      "source": [
        "<a href=\"https://colab.research.google.com/github/rhiats/data-structures-and-algorithms/blob/main/Tuples.ipynb\" target=\"_parent\"><img src=\"https://colab.research.google.com/assets/colab-badge.svg\" alt=\"Open In Colab\"/></a>"
      ]
    },
    {
      "cell_type": "markdown",
      "source": [
        "**Sum and Product**\n",
        "\n",
        "Write a function that calculates the sum and product of all elements in a tuple of numbers."
      ],
      "metadata": {
        "id": "hyxypt1wZICD"
      }
    },
    {
      "cell_type": "code",
      "source": [
        "input_tuple = (1, 2, 3, 4)\n",
        "\n",
        "def sum_product(input_tuple):\n",
        "  \"\"\"\n",
        "    Calculate the sum and product of all elements in a tuple of numbers\n",
        "\n",
        "    @p: input_tuple: tuple of numbers (int/float, pos/neg)\n",
        "  \"\"\"\n",
        "\n",
        "sum_result, product_result = sum_product(input_tuple)\n",
        "print(sum_result, product_result)"
      ],
      "metadata": {
        "id": "N7U8iXmnZNJs"
      },
      "execution_count": null,
      "outputs": []
    }
  ]
}