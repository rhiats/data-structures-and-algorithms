{
  "nbformat": 4,
  "nbformat_minor": 0,
  "metadata": {
    "colab": {
      "provenance": [],
      "authorship_tag": "ABX9TyOPIKYc1wKDHIVGIj026rgp",
      "include_colab_link": true
    },
    "kernelspec": {
      "name": "python3",
      "display_name": "Python 3"
    },
    "language_info": {
      "name": "python"
    }
  },
  "cells": [
    {
      "cell_type": "markdown",
      "metadata": {
        "id": "view-in-github",
        "colab_type": "text"
      },
      "source": [
        "<a href=\"https://colab.research.google.com/github/rhiats/data-structures-and-algorithms/blob/main/Tuples.ipynb\" target=\"_parent\"><img src=\"https://colab.research.google.com/assets/colab-badge.svg\" alt=\"Open In Colab\"/></a>"
      ]
    },
    {
      "cell_type": "markdown",
      "source": [
        "**Sum and Product**\n",
        "\n",
        "Write a function that calculates the sum and product of all elements in a tuple of numbers."
      ],
      "metadata": {
        "id": "hyxypt1wZICD"
      }
    },
    {
      "cell_type": "code",
      "source": [
        "input_tuple = (1, 2, 3, 4)\n",
        "\n",
        "def sum_product(input_tuple):\n",
        "  \"\"\"\n",
        "    Calculate the sum and product of all elements in a tuple of numbers\n",
        "\n",
        "    @p: input_tuple: tuple of numbers (int/float, pos/neg)\n",
        "  \"\"\"\n",
        "\n",
        "  sum_nums=[sum(i) for i in [input_tuple]][0]\n",
        "\n",
        "  prod_num=1\n",
        "\n",
        "  for i in input_tuple:\n",
        "    prod_num*=i\n",
        "\n",
        "  return sum_nums,prod_num\n",
        "\n",
        "sum_result, product_result = sum_product(input_tuple)\n",
        "print(sum_result, product_result)"
      ],
      "metadata": {
        "colab": {
          "base_uri": "https://localhost:8080/"
        },
        "id": "N7U8iXmnZNJs",
        "outputId": "9561c2c3-7ba3-4379-d487-9ab278afbb82"
      },
      "execution_count": 6,
      "outputs": [
        {
          "output_type": "stream",
          "name": "stdout",
          "text": [
            "10 24\n"
          ]
        }
      ]
    },
    {
      "cell_type": "code",
      "source": [],
      "metadata": {
        "id": "HQ1k3SQlZ3b3"
      },
      "execution_count": null,
      "outputs": []
    }
  ]
}